{
 "cells": [
  {
   "cell_type": "code",
   "execution_count": 1,
   "id": "34bb22db-0a1e-4b7e-86d7-e5df0c8a4f83",
   "metadata": {},
   "outputs": [],
   "source": [
    "from langchain_openai import ChatOpenAI"
   ]
  },
  {
   "cell_type": "code",
   "execution_count": 3,
   "id": "f2ef8ee1-5db0-4092-aeef-7f07e256d9a4",
   "metadata": {},
   "outputs": [],
   "source": [
    "model = ChatOpenAI(model= \"deepseek-ai/DeepSeek-V3\",openai_api_base = \"https://api.siliconflow.cn/v1\")"
   ]
  },
  {
   "cell_type": "code",
   "execution_count": 4,
   "id": "24532795-e54c-42cf-bb00-9dec814902fe",
   "metadata": {},
   "outputs": [],
   "source": [
    "from langchain.schema.messages import HumanMessage, SystemMessage"
   ]
  },
  {
   "cell_type": "code",
   "execution_count": 5,
   "id": "ff189aae-cfb6-4bfa-b4e0-81b0f2bd0847",
   "metadata": {},
   "outputs": [],
   "source": [
    "messages = [HumanMessage(content=\"什么是波粒二象性？\"),\n",
    "            SystemMessage(content=\"请你作为我的物理课助教，用通俗易懂且间接的语言帮我解释物理概念。\")]"
   ]
  },
  {
   "cell_type": "code",
   "execution_count": 7,
   "id": "36109bc6-acdb-4d70-92dc-0e78e94d3be3",
   "metadata": {},
   "outputs": [],
   "source": [
    "response = model.invoke(messages)"
   ]
  },
  {
   "cell_type": "code",
   "execution_count": 8,
   "id": "3d545102-7356-41b3-90fe-317c6aff13b9",
   "metadata": {},
   "outputs": [
    {
     "data": {
      "text/plain": [
       "AIMessage(content='好，让我用简单的语言来解释波粒二象性。\\n\\n想象一下，你用一种特殊的相机去拍一个光点。有时候，这张照片看起来像一颗颗小粒子，就像雨滴落在窗户上；但有时候，它又像波浪，就像你在水面扔石头后看到的波纹。这种既像粒子又像波的特性，就是波粒二象性。\\n\\n在物理学中，波粒二象性指的是像光或电子这样的基本单位，有时表现得像粒子，有时又表现得像波。比如，当光照射到金属上并激发出电子（这就是我们说的光电效应），光的行为就像是一串粒子，每个粒子都带有能量。但如果你让光通过两个缝隙，它又会在后面的屏幕上形成干涉条纹，这时候它的行为就像是波。\\n\\n所以，波粒二象性就是告诉我们，这些基本粒子在不同的情况下，既可以像波一样传播，也可以像粒子一样与其他物质碰撞。这一概念是量子力学的基础之一，它改变了我们对于物质和能量本质的理解。', additional_kwargs={'refusal': None}, response_metadata={'token_usage': {'completion_tokens': 210, 'prompt_tokens': 29, 'total_tokens': 239, 'completion_tokens_details': None, 'prompt_tokens_details': None}, 'model_name': 'deepseek-ai/DeepSeek-V3', 'system_fingerprint': '', 'finish_reason': 'stop', 'logprobs': None}, id='run-fc06e909-1d9e-41c8-8bf2-942dca75373c-0', usage_metadata={'input_tokens': 29, 'output_tokens': 210, 'total_tokens': 239, 'input_token_details': {}, 'output_token_details': {}})"
      ]
     },
     "execution_count": 8,
     "metadata": {},
     "output_type": "execute_result"
    }
   ],
   "source": [
    "response"
   ]
  },
  {
   "cell_type": "code",
   "execution_count": 9,
   "id": "69f550c9-7056-4a47-87d8-e160f327e54e",
   "metadata": {},
   "outputs": [
    {
     "name": "stdout",
     "output_type": "stream",
     "text": [
      "好，让我用简单的语言来解释波粒二象性。\n",
      "\n",
      "想象一下，你用一种特殊的相机去拍一个光点。有时候，这张照片看起来像一颗颗小粒子，就像雨滴落在窗户上；但有时候，它又像波浪，就像你在水面扔石头后看到的波纹。这种既像粒子又像波的特性，就是波粒二象性。\n",
      "\n",
      "在物理学中，波粒二象性指的是像光或电子这样的基本单位，有时表现得像粒子，有时又表现得像波。比如，当光照射到金属上并激发出电子（这就是我们说的光电效应），光的行为就像是一串粒子，每个粒子都带有能量。但如果你让光通过两个缝隙，它又会在后面的屏幕上形成干涉条纹，这时候它的行为就像是波。\n",
      "\n",
      "所以，波粒二象性就是告诉我们，这些基本粒子在不同的情况下，既可以像波一样传播，也可以像粒子一样与其他物质碰撞。这一概念是量子力学的基础之一，它改变了我们对于物质和能量本质的理解。\n"
     ]
    }
   ],
   "source": [
    "print(response.content)"
   ]
  },
  {
   "cell_type": "code",
   "execution_count": null,
   "id": "a1b3f15a-ca81-49b8-a4d4-99ebe1349fae",
   "metadata": {},
   "outputs": [],
   "source": []
  }
 ],
 "metadata": {
  "kernelspec": {
   "display_name": "Python 3 (ipykernel)",
   "language": "python",
   "name": "python3"
  },
  "language_info": {
   "codemirror_mode": {
    "name": "ipython",
    "version": 3
   },
   "file_extension": ".py",
   "mimetype": "text/x-python",
   "name": "python",
   "nbconvert_exporter": "python",
   "pygments_lexer": "ipython3",
   "version": "3.12.4"
  }
 },
 "nbformat": 4,
 "nbformat_minor": 5
}
